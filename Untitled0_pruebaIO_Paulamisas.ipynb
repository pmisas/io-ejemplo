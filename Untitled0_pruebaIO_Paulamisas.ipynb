{
  "nbformat": 4,
  "nbformat_minor": 0,
  "metadata": {
    "colab": {
      "provenance": [],
      "authorship_tag": "ABX9TyNnK5ndwbmUK0BBpWB2QXcZ",
      "include_colab_link": true
    },
    "kernelspec": {
      "name": "python3",
      "display_name": "Python 3"
    },
    "language_info": {
      "name": "python"
    }
  },
  "cells": [
    {
      "cell_type": "markdown",
      "metadata": {
        "id": "view-in-github",
        "colab_type": "text"
      },
      "source": [
        "<a href=\"https://colab.research.google.com/github/pmisas/io-ejemplo/blob/main/Untitled0_pruebaIO_Paulamisas.ipynb\" target=\"_parent\"><img src=\"https://colab.research.google.com/assets/colab-badge.svg\" alt=\"Open In Colab\"/></a>"
      ]
    },
    {
      "cell_type": "markdown",
      "source": [
        "##primer ejercicio"
      ],
      "metadata": {
        "id": "VNi4aesR3vao"
      }
    },
    {
      "cell_type": "code",
      "execution_count": 2,
      "metadata": {
        "colab": {
          "base_uri": "https://localhost:8080/"
        },
        "id": "EL70XqXz2Whz",
        "outputId": "410b7170-000e-47b8-de42-f5b0e18d254c"
      },
      "outputs": [
        {
          "output_type": "stream",
          "name": "stdout",
          "text": [
            "hola mundo\n"
          ]
        }
      ],
      "source": [
        "print(\"hola mundo\")"
      ]
    },
    {
      "cell_type": "markdown",
      "source": [
        "##segundo ejercico"
      ],
      "metadata": {
        "id": "9CAGA7PG4d1n"
      }
    },
    {
      "cell_type": "code",
      "source": [
        "print(\"hola paula\")"
      ],
      "metadata": {
        "colab": {
          "base_uri": "https://localhost:8080/"
        },
        "id": "aoSUyqDc4Nf4",
        "outputId": "d7e83495-e577-4cd8-a1da-5400d759ec46"
      },
      "execution_count": 4,
      "outputs": [
        {
          "output_type": "stream",
          "name": "stdout",
          "text": [
            "hola paula\n"
          ]
        }
      ]
    }
  ]
}